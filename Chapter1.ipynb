{
 "cells": [
  {
   "cell_type": "markdown",
   "metadata": {
    "toc": true
   },
   "source": [
    "<h1>Table of Contents<span class=\"tocSkip\"></span></h1>\n",
    "<div class=\"toc\"><ul class=\"toc-item\"><li><span><a href=\"#밑바닥부터-시작하는-딥러닝-(Deep-Learning-from-Scratch)\" data-toc-modified-id=\"밑바닥부터-시작하는-딥러닝-(Deep-Learning-from-Scratch)-1\">밑바닥부터 시작하는 딥러닝 (Deep Learning from Scratch)</a></span></li><li><span><a href=\"#1-헬로-파이썬\" data-toc-modified-id=\"1-헬로-파이썬-2\">1 헬로 파이썬</a></span><ul class=\"toc-item\"><li><span><a href=\"#1.1-파이썬이란?\" data-toc-modified-id=\"1.1-파이썬이란?-2.1\">1.1 파이썬이란?</a></span></li><li><span><a href=\"#1.2-파이썬-설치하기\" data-toc-modified-id=\"1.2-파이썬-설치하기-2.2\">1.2 파이썬 설치하기</a></span><ul class=\"toc-item\"><li><span><a href=\"#1.2.1-파이썬-버전\" data-toc-modified-id=\"1.2.1-파이썬-버전-2.2.1\">1.2.1 파이썬 버전</a></span></li><li><span><a href=\"#1.2.2-사용하는-외부-라이브러리\" data-toc-modified-id=\"1.2.2-사용하는-외부-라이브러리-2.2.2\">1.2.2 사용하는 외부 라이브러리</a></span></li><li><span><a href=\"#1..2.3-아나콘다-배포판\" data-toc-modified-id=\"1..2.3-아나콘다-배포판-2.2.3\">1..2.3 아나콘다 배포판</a></span></li></ul></li><li><span><a href=\"#1.3-파이썬-인터프리터\" data-toc-modified-id=\"1.3-파이썬-인터프리터-2.3\">1.3 파이썬 인터프리터</a></span><ul class=\"toc-item\"><li><span><a href=\"#1.3.1-산술-연산\" data-toc-modified-id=\"1.3.1-산술-연산-2.3.1\">1.3.1 산술 연산</a></span></li><li><span><a href=\"#1.3.2-자료형\" data-toc-modified-id=\"1.3.2-자료형-2.3.2\">1.3.2 자료형</a></span></li><li><span><a href=\"#1.3.3-변수\" data-toc-modified-id=\"1.3.3-변수-2.3.3\">1.3.3 변수</a></span></li><li><span><a href=\"#1.3.4-리스트\" data-toc-modified-id=\"1.3.4-리스트-2.3.4\">1.3.4 리스트</a></span></li><li><span><a href=\"#1.3.5-딕셔너리\" data-toc-modified-id=\"1.3.5-딕셔너리-2.3.5\">1.3.5 딕셔너리</a></span></li><li><span><a href=\"#1.3.6-bool\" data-toc-modified-id=\"1.3.6-bool-2.3.6\">1.3.6 bool</a></span></li><li><span><a href=\"#1.3.7-if-문\" data-toc-modified-id=\"1.3.7-if-문-2.3.7\">1.3.7 if 문</a></span></li><li><span><a href=\"#1.3.8-for-문\" data-toc-modified-id=\"1.3.8-for-문-2.3.8\">1.3.8 for 문</a></span></li><li><span><a href=\"#1.3.9-함수\" data-toc-modified-id=\"1.3.9-함수-2.3.9\">1.3.9 함수</a></span></li></ul></li><li><span><a href=\"#1.4-파이썬-스크립트-파일\" data-toc-modified-id=\"1.4-파이썬-스크립트-파일-2.4\">1.4 파이썬 스크립트 파일</a></span><ul class=\"toc-item\"><li><span><a href=\"#1.4.1-파일로-저장하기\" data-toc-modified-id=\"1.4.1-파일로-저장하기-2.4.1\">1.4.1 파일로 저장하기</a></span></li><li><span><a href=\"#1.4.2-클래스\" data-toc-modified-id=\"1.4.2-클래스-2.4.2\">1.4.2 클래스</a></span></li></ul></li><li><span><a href=\"#1.5-넘파이\" data-toc-modified-id=\"1.5-넘파이-2.5\">1.5 넘파이</a></span><ul class=\"toc-item\"><li><span><a href=\"#1.5.1-넘파이-가져오기\" data-toc-modified-id=\"1.5.1-넘파이-가져오기-2.5.1\">1.5.1 넘파이 가져오기</a></span></li><li><span><a href=\"#1.5.2-넘파이-배열-생성하기\" data-toc-modified-id=\"1.5.2-넘파이-배열-생성하기-2.5.2\">1.5.2 넘파이 배열 생성하기</a></span></li><li><span><a href=\"#1.5.3-넘파이의-산술-연산\" data-toc-modified-id=\"1.5.3-넘파이의-산술-연산-2.5.3\">1.5.3 넘파이의 산술 연산</a></span></li><li><span><a href=\"#1.5.4-넘파이의-N차원-배열\" data-toc-modified-id=\"1.5.4-넘파이의-N차원-배열-2.5.4\">1.5.4 넘파이의 N차원 배열</a></span></li><li><span><a href=\"#1.5.5-브로드캐스트\" data-toc-modified-id=\"1.5.5-브로드캐스트-2.5.5\">1.5.5 브로드캐스트</a></span></li><li><span><a href=\"#1.5.6-원소-접근\" data-toc-modified-id=\"1.5.6-원소-접근-2.5.6\">1.5.6 원소 접근</a></span></li></ul></li><li><span><a href=\"#1.6-matplotlib\" data-toc-modified-id=\"1.6-matplotlib-2.6\">1.6 matplotlib</a></span><ul class=\"toc-item\"><li><span><a href=\"#1.6.1-단순한-그래프-그리기\" data-toc-modified-id=\"1.6.1-단순한-그래프-그리기-2.6.1\">1.6.1 단순한 그래프 그리기</a></span></li><li><span><a href=\"#1.6.2-pyplot의-기능\" data-toc-modified-id=\"1.6.2-pyplot의-기능-2.6.2\">1.6.2 pyplot의 기능</a></span></li><li><span><a href=\"#1.6.3-이미지-표시하기\" data-toc-modified-id=\"1.6.3-이미지-표시하기-2.6.3\">1.6.3 이미지 표시하기</a></span></li></ul></li><li><span><a href=\"#1.7-정리\" data-toc-modified-id=\"1.7-정리-2.7\">1.7 정리</a></span></li></ul></li></ul></div>"
   ]
  },
  {
   "cell_type": "markdown",
   "metadata": {
    "collapsed": true
   },
   "source": [
    "# 밑바닥부터 시작하는 딥러닝 (Deep Learning from Scratch)\n",
    "\n",
    "<a href=\"https://github.com/ohing504/deep-learning-from-scratch\" style=\"color: Black;\">\n",
    "  <span class=\"fa fa-github fa-1x\"></span> GitHub\n",
    "</a>&nbsp;&nbsp;\n",
    "<a href=\"SUMMARY.ipynb\" style=\"color: Black;\">\n",
    "  <span class=\"fa fa-list-ul fa-1x\"></span> Contents\n",
    "</a>"
   ]
  },
  {
   "cell_type": "markdown",
   "metadata": {},
   "source": [
    "# 1 헬로 파이썬"
   ]
  },
  {
   "cell_type": "markdown",
   "metadata": {},
   "source": [
    "## 1.1 파이썬이란?\n",
    "\n",
    "* 간단하고 배우기 쉬운 프로그래밍 언어\n",
    "* 오픈 소스 (무료로 사용)\n",
    "* 컴파일 과정이 없어 편리\n",
    "* 과학, 기계학습 및 데이터 과학 분야를 위한 다양한 라이브러리 및 프레임워크 제공\n",
    "  * 수치 계산 및 통계 처리 라이브러리: 넘파이(NumPy), 사이파이(SciPy)\n",
    "  * 딥러닝 프레임워크: 카페(Caffe), 텐서플로(TensorFlow), 체이너(Chainer), 테아노(Theano)"
   ]
  },
  {
   "cell_type": "markdown",
   "metadata": {},
   "source": [
    "## 1.2 파이썬 설치하기\n",
    "\n"
   ]
  },
  {
   "cell_type": "markdown",
   "metadata": {},
   "source": []
  },
  {
   "cell_type": "markdown",
   "metadata": {},
   "source": [
    "### 1.2.1 파이썬 버전\n",
    "\n",
    "Python 3를 사용합시다."
   ]
  },
  {
   "cell_type": "markdown",
   "metadata": {},
   "source": [
    "### 1.2.2 사용하는 외부 라이브러리\n",
    "\n",
    "* 밑바닥부터 구현하기 위해, 외부 라이브러리는 최소한만 사용\n",
    "* 효율성을 위해 다음 두 가지 외부 라이브러리 사용:\n",
    "  * [넘파이(NumPy)](http://www.numpy.org/): 고도의 수학 알고리즘과 배열(행렬)을 조작하기 위한 편리한 메서드 다수\n",
    "  * [Matplotlib](https://matplotlib.org/): 그래프를 그려주는 라이브러리. 실험 결과 및 데이터 시각화"
   ]
  },
  {
   "cell_type": "markdown",
   "metadata": {},
   "source": [
    "### 1..2.3 아나콘다 배포판\n",
    "\n",
    "* 아나콘다(Anaconda) 배포판을 사용\n",
    "  * 배포판: 사용자가 설치를 한 번에 수행할 수 있도록 필요한 라이브러리 등을 하나로 정리해둔 것\n",
    "  * 아나콘다: 데이터 분석에 중점을 둔 배포판\n",
    "* 파이썬3 버전의 아나콘다를 자신의 OS에 맞게 다운로드하여 설치\n",
    "  * https://www.anaconda.com/download/#macos"
   ]
  },
  {
   "cell_type": "markdown",
   "metadata": {},
   "source": [
    "## 1.3 파이썬 인터프리터\n",
    "\n",
    "* 파이썬 버전 확인\n",
    "  * `python --version`"
   ]
  },
  {
   "cell_type": "code",
   "execution_count": 1,
   "metadata": {
    "ExecuteTime": {
     "end_time": "2018-08-02T02:19:29.810527Z",
     "start_time": "2018-08-02T02:19:29.722871Z"
    }
   },
   "outputs": [
    {
     "name": "stderr",
     "output_type": "stream",
     "text": [
      "Python 3.6.3 :: Anaconda custom (64-bit)\n"
     ]
    }
   ],
   "source": [
    "%%bash\n",
    "\n",
    "python --version"
   ]
  },
  {
   "cell_type": "code",
   "execution_count": 2,
   "metadata": {
    "ExecuteTime": {
     "end_time": "2018-08-02T02:19:50.856923Z",
     "start_time": "2018-08-02T02:19:50.674520Z"
    }
   },
   "outputs": [],
   "source": [
    "%%bash\n",
    "\n",
    "python"
   ]
  },
  {
   "cell_type": "markdown",
   "metadata": {},
   "source": [
    "* 인터프리터(대화 모드): 개발자와 파이썬이 대화하듯 프로그래밍"
   ]
  },
  {
   "cell_type": "code",
   "execution_count": 3,
   "metadata": {
    "ExecuteTime": {
     "end_time": "2018-08-02T02:25:39.872205Z",
     "start_time": "2018-08-02T02:25:39.845969Z"
    }
   },
   "outputs": [
    {
     "data": {
      "text/plain": [
       "3"
      ]
     },
     "execution_count": 3,
     "metadata": {},
     "output_type": "execute_result"
    }
   ],
   "source": [
    "1 + 2"
   ]
  },
  {
   "cell_type": "markdown",
   "metadata": {},
   "source": [
    "### 1.3.1 산술 연산\n",
    "\n",
    "* 덧셈과 곱셈등의 산술 연산"
   ]
  },
  {
   "cell_type": "code",
   "execution_count": 4,
   "metadata": {
    "ExecuteTime": {
     "end_time": "2018-08-02T02:26:19.944877Z",
     "start_time": "2018-08-02T02:26:19.922358Z"
    }
   },
   "outputs": [
    {
     "data": {
      "text/plain": [
       "-1"
      ]
     },
     "execution_count": 4,
     "metadata": {},
     "output_type": "execute_result"
    }
   ],
   "source": [
    "1 - 2"
   ]
  },
  {
   "cell_type": "code",
   "execution_count": 5,
   "metadata": {
    "ExecuteTime": {
     "end_time": "2018-08-02T02:26:23.386489Z",
     "start_time": "2018-08-02T02:26:23.379002Z"
    }
   },
   "outputs": [
    {
     "data": {
      "text/plain": [
       "20"
      ]
     },
     "execution_count": 5,
     "metadata": {},
     "output_type": "execute_result"
    }
   ],
   "source": [
    "4 * 5"
   ]
  },
  {
   "cell_type": "code",
   "execution_count": 6,
   "metadata": {
    "ExecuteTime": {
     "end_time": "2018-08-02T02:26:26.960864Z",
     "start_time": "2018-08-02T02:26:26.944378Z"
    }
   },
   "outputs": [
    {
     "data": {
      "text/plain": [
       "1.4"
      ]
     },
     "execution_count": 6,
     "metadata": {},
     "output_type": "execute_result"
    }
   ],
   "source": [
    "7 / 5"
   ]
  },
  {
   "cell_type": "code",
   "execution_count": 7,
   "metadata": {
    "ExecuteTime": {
     "end_time": "2018-08-02T02:26:30.763499Z",
     "start_time": "2018-08-02T02:26:30.728933Z"
    }
   },
   "outputs": [
    {
     "data": {
      "text/plain": [
       "9"
      ]
     },
     "execution_count": 7,
     "metadata": {},
     "output_type": "execute_result"
    }
   ],
   "source": [
    "3 ** 2"
   ]
  },
  {
   "cell_type": "markdown",
   "metadata": {},
   "source": [
    "### 1.3.2 자료형\n",
    "\n",
    "* 자료형(data type): 데이터의 성질\n",
    "  * 정수(int), 실수(float), 문자열(str) 등\n",
    "  * `type()` 함수로 특정 데이터의 자료형 확인 가능"
   ]
  },
  {
   "cell_type": "code",
   "execution_count": 8,
   "metadata": {
    "ExecuteTime": {
     "end_time": "2018-08-02T08:08:58.092512Z",
     "start_time": "2018-08-02T08:08:58.052839Z"
    }
   },
   "outputs": [
    {
     "name": "stdout",
     "output_type": "stream",
     "text": [
      "<class 'int'>\n"
     ]
    }
   ],
   "source": [
    "print(type(10))"
   ]
  },
  {
   "cell_type": "code",
   "execution_count": 9,
   "metadata": {
    "ExecuteTime": {
     "end_time": "2018-08-02T08:09:02.259942Z",
     "start_time": "2018-08-02T08:09:02.232870Z"
    }
   },
   "outputs": [
    {
     "name": "stdout",
     "output_type": "stream",
     "text": [
      "<class 'float'>\n"
     ]
    }
   ],
   "source": [
    "print(type(2.718))"
   ]
  },
  {
   "cell_type": "code",
   "execution_count": 10,
   "metadata": {
    "ExecuteTime": {
     "end_time": "2018-08-02T08:09:05.609635Z",
     "start_time": "2018-08-02T08:09:05.570550Z"
    }
   },
   "outputs": [
    {
     "name": "stdout",
     "output_type": "stream",
     "text": [
      "<class 'str'>\n"
     ]
    }
   ],
   "source": [
    "print(type('hello'))"
   ]
  },
  {
   "cell_type": "markdown",
   "metadata": {},
   "source": [
    "* 자료형과 클래스(class)라는 말을 같은 의미로 사용하는 경우가 있음.\n",
    "  * <class 'int'>는 '10은 int라는 클래스(자료형)다'로 해석"
   ]
  },
  {
   "cell_type": "markdown",
   "metadata": {},
   "source": [
    "### 1.3.3 변수\n",
    "\n",
    "* 변수(variable): x와 y 등의 알파벳을 사용하여 정의\n",
    "* 변수를 사용하여 계산하거나 변수에 다른 값을 대입할 수 있음."
   ]
  },
  {
   "cell_type": "code",
   "execution_count": 11,
   "metadata": {
    "ExecuteTime": {
     "end_time": "2018-08-02T02:32:03.247421Z",
     "start_time": "2018-08-02T02:32:03.239490Z"
    }
   },
   "outputs": [
    {
     "name": "stdout",
     "output_type": "stream",
     "text": [
      "10\n"
     ]
    }
   ],
   "source": [
    "x = 10    # 초기화\n",
    "print(x)  # x의 값 출력"
   ]
  },
  {
   "cell_type": "code",
   "execution_count": 12,
   "metadata": {
    "ExecuteTime": {
     "end_time": "2018-08-02T02:32:30.117888Z",
     "start_time": "2018-08-02T02:32:30.095042Z"
    }
   },
   "outputs": [
    {
     "name": "stdout",
     "output_type": "stream",
     "text": [
      "100\n"
     ]
    }
   ],
   "source": [
    "x = 100  # 변수에 값 대입\n",
    "print(x)"
   ]
  },
  {
   "cell_type": "code",
   "execution_count": 13,
   "metadata": {
    "ExecuteTime": {
     "end_time": "2018-08-02T02:32:46.985497Z",
     "start_time": "2018-08-02T02:32:46.962222Z"
    }
   },
   "outputs": [
    {
     "name": "stdout",
     "output_type": "stream",
     "text": [
      "314.0\n"
     ]
    }
   ],
   "source": [
    "y = 3.14\n",
    "print(x * y)"
   ]
  },
  {
   "cell_type": "code",
   "execution_count": 14,
   "metadata": {
    "ExecuteTime": {
     "end_time": "2018-08-02T02:32:54.658930Z",
     "start_time": "2018-08-02T02:32:54.644083Z"
    }
   },
   "outputs": [
    {
     "data": {
      "text/plain": [
       "float"
      ]
     },
     "execution_count": 14,
     "metadata": {},
     "output_type": "execute_result"
    }
   ],
   "source": [
    "type(x * y)"
   ]
  },
  {
   "cell_type": "markdown",
   "metadata": {},
   "source": [
    "* 파이썬은 **동적 언어**: 자료형을 상황에 맞게 자동으로 결정\n",
    "  * x를 10이라는 정수로 초기화할 때, x의 타입은 int\n",
    "  * 정수와 실수를 곱한 결과는 실수\n",
    "* `#`은 주석의 시작을 알리는 문자\n",
    "  * `#` 이후의 문자는 모두 무시"
   ]
  },
  {
   "cell_type": "markdown",
   "metadata": {},
   "source": [
    "### 1.3.4 리스트\n",
    "\n",
    "* 리스트(list): 여러 데이터를 관리하기 용이"
   ]
  },
  {
   "cell_type": "code",
   "execution_count": 15,
   "metadata": {
    "ExecuteTime": {
     "end_time": "2018-08-02T02:36:04.243711Z",
     "start_time": "2018-08-02T02:36:04.226108Z"
    }
   },
   "outputs": [
    {
     "name": "stdout",
     "output_type": "stream",
     "text": [
      "[1, 2, 3, 4, 5]\n"
     ]
    }
   ],
   "source": [
    "a = [1, 2, 3, 4, 5]  # 리스트 생성\n",
    "print(a)"
   ]
  },
  {
   "cell_type": "code",
   "execution_count": 16,
   "metadata": {
    "ExecuteTime": {
     "end_time": "2018-08-02T02:36:15.470106Z",
     "start_time": "2018-08-02T02:36:15.463824Z"
    }
   },
   "outputs": [
    {
     "data": {
      "text/plain": [
       "5"
      ]
     },
     "execution_count": 16,
     "metadata": {},
     "output_type": "execute_result"
    }
   ],
   "source": [
    "len(a)  # 리스트의 길이 출력"
   ]
  },
  {
   "cell_type": "code",
   "execution_count": 17,
   "metadata": {
    "ExecuteTime": {
     "end_time": "2018-08-02T02:36:28.387310Z",
     "start_time": "2018-08-02T02:36:28.364191Z"
    }
   },
   "outputs": [
    {
     "data": {
      "text/plain": [
       "1"
      ]
     },
     "execution_count": 17,
     "metadata": {},
     "output_type": "execute_result"
    }
   ],
   "source": [
    "a[0]  # 첫 원소에 접근"
   ]
  },
  {
   "cell_type": "code",
   "execution_count": 18,
   "metadata": {
    "ExecuteTime": {
     "end_time": "2018-08-02T02:36:39.978856Z",
     "start_time": "2018-08-02T02:36:39.950223Z"
    }
   },
   "outputs": [
    {
     "data": {
      "text/plain": [
       "5"
      ]
     },
     "execution_count": 18,
     "metadata": {},
     "output_type": "execute_result"
    }
   ],
   "source": [
    "a[4]  # 다섯 번째 원소에 접근"
   ]
  },
  {
   "cell_type": "code",
   "execution_count": 19,
   "metadata": {
    "ExecuteTime": {
     "end_time": "2018-08-02T02:37:00.234056Z",
     "start_time": "2018-08-02T02:37:00.219921Z"
    }
   },
   "outputs": [
    {
     "name": "stdout",
     "output_type": "stream",
     "text": [
      "[1, 2, 3, 4, 99]\n"
     ]
    }
   ],
   "source": [
    "a[4] = 99  # 값 대입\n",
    "print(a)"
   ]
  },
  {
   "cell_type": "markdown",
   "metadata": {},
   "source": [
    "* 리스트의 원소에 접근할 때는 `a[0]` 처럼 사용\n",
    "* `[ ]` 안의 수를 인덱스(색인)라 하며, 인덱스는 0부터 시작\n",
    "  * 0이 첫 번째 원소를 가리킴.\n",
    "* 슬라이싱(slicing): 범위를 지정해 원하는 부분 리스트를 얻음."
   ]
  },
  {
   "cell_type": "code",
   "execution_count": 20,
   "metadata": {
    "ExecuteTime": {
     "end_time": "2018-08-02T02:41:12.478114Z",
     "start_time": "2018-08-02T02:41:12.471856Z"
    }
   },
   "outputs": [
    {
     "name": "stdout",
     "output_type": "stream",
     "text": [
      "[1, 2, 3, 4, 99]\n"
     ]
    }
   ],
   "source": [
    "print(a)"
   ]
  },
  {
   "cell_type": "code",
   "execution_count": 21,
   "metadata": {
    "ExecuteTime": {
     "end_time": "2018-08-02T02:41:40.864558Z",
     "start_time": "2018-08-02T02:41:40.841482Z"
    }
   },
   "outputs": [
    {
     "data": {
      "text/plain": [
       "[1, 2]"
      ]
     },
     "execution_count": 21,
     "metadata": {},
     "output_type": "execute_result"
    }
   ],
   "source": [
    "a[0:2]  # 인덱스 0부터 2까지 얻기(2번째는 포함하지 않는다!)"
   ]
  },
  {
   "cell_type": "code",
   "execution_count": 22,
   "metadata": {
    "ExecuteTime": {
     "end_time": "2018-08-02T02:41:49.436376Z",
     "start_time": "2018-08-02T02:41:49.413401Z"
    }
   },
   "outputs": [
    {
     "data": {
      "text/plain": [
       "[2, 3, 4, 99]"
      ]
     },
     "execution_count": 22,
     "metadata": {},
     "output_type": "execute_result"
    }
   ],
   "source": [
    "a[1:]  # 인덱스 1부터 끝까지 얻기"
   ]
  },
  {
   "cell_type": "code",
   "execution_count": 23,
   "metadata": {
    "ExecuteTime": {
     "end_time": "2018-08-02T02:43:43.590249Z",
     "start_time": "2018-08-02T02:43:43.569206Z"
    }
   },
   "outputs": [
    {
     "data": {
      "text/plain": [
       "[1, 2, 3]"
      ]
     },
     "execution_count": 23,
     "metadata": {},
     "output_type": "execute_result"
    }
   ],
   "source": [
    "a[:3]  # 처음부터 인덱스 3까지 얻기(3번째는 포함하지 않는다!)"
   ]
  },
  {
   "cell_type": "code",
   "execution_count": 24,
   "metadata": {
    "ExecuteTime": {
     "end_time": "2018-08-02T02:43:56.334162Z",
     "start_time": "2018-08-02T02:43:56.306980Z"
    }
   },
   "outputs": [
    {
     "data": {
      "text/plain": [
       "[1, 2, 3, 4]"
      ]
     },
     "execution_count": 24,
     "metadata": {},
     "output_type": "execute_result"
    }
   ],
   "source": [
    "a[:-1]  # 처음부터 마지막 원소의 1개 앞까지 얻기"
   ]
  },
  {
   "cell_type": "code",
   "execution_count": 25,
   "metadata": {
    "ExecuteTime": {
     "end_time": "2018-08-02T02:44:07.116803Z",
     "start_time": "2018-08-02T02:44:07.094972Z"
    }
   },
   "outputs": [
    {
     "data": {
      "text/plain": [
       "[1, 2, 3]"
      ]
     },
     "execution_count": 25,
     "metadata": {},
     "output_type": "execute_result"
    }
   ],
   "source": [
    "a[:-2]  # 처음부터 마지막 원소의 2개 앞까지 얻기"
   ]
  },
  {
   "cell_type": "markdown",
   "metadata": {},
   "source": [
    "* 리스트를 슬라이싱하려면 `a[0:2]` 처럼 사용\n",
    "* `a[0:2]`는 인덱스 0부터 1 (2보다 하나 앞)까지의 원소를 꺼냄.\n",
    "* 인덱스 번호 -1은 마지막 원소, -2는 끝에서 한 개 앞의 원소에 해당"
   ]
  },
  {
   "cell_type": "markdown",
   "metadata": {},
   "source": [
    "### 1.3.5 딕셔너리\n",
    "\n",
    "* 리스트는 인덱스 번호로 값을 저장 (0, 1, 2 ... 순)\n",
    "* 딕셔너리(dictionary)는 키(key)와 값(value)을 한 쌍으로 저장\n",
    "  * like as 영한사전"
   ]
  },
  {
   "cell_type": "code",
   "execution_count": 26,
   "metadata": {
    "ExecuteTime": {
     "end_time": "2018-08-02T07:58:14.344303Z",
     "start_time": "2018-08-02T07:58:14.300627Z"
    }
   },
   "outputs": [
    {
     "name": "stdout",
     "output_type": "stream",
     "text": [
      "100\n"
     ]
    }
   ],
   "source": [
    "me = {'height': 100}  # 딕셔너리 생성\n",
    "print(me['height'])"
   ]
  },
  {
   "cell_type": "code",
   "execution_count": 27,
   "metadata": {
    "ExecuteTime": {
     "end_time": "2018-08-02T07:58:40.202924Z",
     "start_time": "2018-08-02T07:58:40.158912Z"
    }
   },
   "outputs": [
    {
     "name": "stdout",
     "output_type": "stream",
     "text": [
      "{'height': 100, 'weight': 70}\n"
     ]
    }
   ],
   "source": [
    "me['weight'] = 70  # 새 원소 추가\n",
    "print(me)"
   ]
  },
  {
   "cell_type": "markdown",
   "metadata": {},
   "source": [
    "### 1.3.6 bool\n",
    "\n",
    "* bool(불 혹은 불리언): True(참)와 False(거짓)라는 두 값중 하나를 취함.\n",
    "* bool에는 and, or, not 연산자를 사용 가능\n",
    "  * 자료형에 따라 사용할 수 있는 연산자가 정해져 있음.\n",
    "  * 예: 수치용 연산자로는 +, -, *, / 등이 있음."
   ]
  },
  {
   "cell_type": "code",
   "execution_count": 28,
   "metadata": {
    "ExecuteTime": {
     "end_time": "2018-08-02T08:08:44.648782Z",
     "start_time": "2018-08-02T08:08:44.612454Z"
    }
   },
   "outputs": [
    {
     "name": "stdout",
     "output_type": "stream",
     "text": [
      "<class 'bool'>\n"
     ]
    }
   ],
   "source": [
    "hungry = True  # 배가 고프다.\n",
    "sleepy = False  # 졸리지 않다.\n",
    "print(type(hungry))"
   ]
  },
  {
   "cell_type": "code",
   "execution_count": 29,
   "metadata": {
    "ExecuteTime": {
     "end_time": "2018-08-02T08:09:17.815116Z",
     "start_time": "2018-08-02T08:09:17.771993Z"
    }
   },
   "outputs": [
    {
     "data": {
      "text/plain": [
       "False"
      ]
     },
     "execution_count": 29,
     "metadata": {},
     "output_type": "execute_result"
    }
   ],
   "source": [
    "not hungry"
   ]
  },
  {
   "cell_type": "code",
   "execution_count": 30,
   "metadata": {
    "ExecuteTime": {
     "end_time": "2018-08-02T08:09:34.063591Z",
     "start_time": "2018-08-02T08:09:34.025426Z"
    }
   },
   "outputs": [
    {
     "data": {
      "text/plain": [
       "False"
      ]
     },
     "execution_count": 30,
     "metadata": {},
     "output_type": "execute_result"
    }
   ],
   "source": [
    "hungry and sleepy  # 배가 고프다 그리고 졸리지 않다."
   ]
  },
  {
   "cell_type": "code",
   "execution_count": 31,
   "metadata": {
    "ExecuteTime": {
     "end_time": "2018-08-02T08:09:46.796454Z",
     "start_time": "2018-08-02T08:09:46.758278Z"
    }
   },
   "outputs": [
    {
     "data": {
      "text/plain": [
       "True"
      ]
     },
     "execution_count": 31,
     "metadata": {},
     "output_type": "execute_result"
    }
   ],
   "source": [
    "hungry or sleep  # 배가 고프다 또는 졸리지 않다."
   ]
  },
  {
   "cell_type": "markdown",
   "metadata": {},
   "source": [
    "### 1.3.7 if 문\n",
    "\n",
    "* if/else 문: 조건에 따라 달리 처리하기 위해 사용"
   ]
  },
  {
   "cell_type": "code",
   "execution_count": 32,
   "metadata": {
    "ExecuteTime": {
     "end_time": "2018-08-02T08:10:30.757101Z",
     "start_time": "2018-08-02T08:10:30.712134Z"
    }
   },
   "outputs": [
    {
     "name": "stdout",
     "output_type": "stream",
     "text": [
      "I'm hungry\n"
     ]
    }
   ],
   "source": [
    "hungry = True\n",
    "if hungry:\n",
    "    print(\"I'm hungry\")"
   ]
  },
  {
   "cell_type": "code",
   "execution_count": 33,
   "metadata": {
    "ExecuteTime": {
     "end_time": "2018-08-02T08:11:08.954569Z",
     "start_time": "2018-08-02T08:11:08.867474Z"
    }
   },
   "outputs": [
    {
     "name": "stdout",
     "output_type": "stream",
     "text": [
      "I'm not hungry\n",
      "I'm sleep\n"
     ]
    }
   ],
   "source": [
    "hungry = False\n",
    "if hungry:\n",
    "    print(\"I'm hungry\")\n",
    "else:\n",
    "    print(\"I'm not hungry\")\n",
    "    print(\"I'm sleep\")"
   ]
  },
  {
   "cell_type": "markdown",
   "metadata": {},
   "source": [
    "* 파이썬에서는 **공백 문자**가 중요\n",
    "* `if hungry:` 다음 줄은 앞쪽에 4개의 공백 문자가 있음.\n",
    "* 이 들여쓰기는 지난 조건(if hungry)이 충족될 때 실행되는 코드를 표현"
   ]
  },
  {
   "cell_type": "markdown",
   "metadata": {},
   "source": [
    "<div class=\"alert alert-warning\">\n",
    "    공백 대신 탭(tab) 문자 사용 가능하지만 파이썬에서는 공백 문자 쪽을 권장함. 한 단계 더 들여 쓸 때마다 공백 4개씩을 더 추가하는 것이 일반적임.\n",
    "</div>"
   ]
  },
  {
   "cell_type": "markdown",
   "metadata": {},
   "source": [
    "### 1.3.8 for 문\n",
    "\n"
   ]
  },
  {
   "cell_type": "markdown",
   "metadata": {},
   "source": [
    "* for 문: 반복(루프) 처리에 사용"
   ]
  },
  {
   "cell_type": "code",
   "execution_count": 34,
   "metadata": {
    "ExecuteTime": {
     "end_time": "2018-08-02T08:28:33.524655Z",
     "start_time": "2018-08-02T08:28:33.482363Z"
    }
   },
   "outputs": [
    {
     "name": "stdout",
     "output_type": "stream",
     "text": [
      "1\n",
      "2\n",
      "3\n"
     ]
    }
   ],
   "source": [
    "for i in [1, 2, 3]:\n",
    "    print(i)"
   ]
  },
  {
   "cell_type": "markdown",
   "metadata": {},
   "source": [
    "* `for ... in ... :` 구문을 사용하면 리스트 등 데이터 집합의 각 원소에 차례로 접근 가능"
   ]
  },
  {
   "cell_type": "markdown",
   "metadata": {},
   "source": [
    "### 1.3.9 함수\n",
    "\n",
    "* 함수(fucntion): 특정 기능을 수행하는 일련의 명령들의 묶음"
   ]
  },
  {
   "cell_type": "code",
   "execution_count": 35,
   "metadata": {
    "ExecuteTime": {
     "end_time": "2018-08-02T08:58:19.099595Z",
     "start_time": "2018-08-02T08:58:19.032057Z"
    }
   },
   "outputs": [
    {
     "name": "stdout",
     "output_type": "stream",
     "text": [
      "Hello World!\n"
     ]
    }
   ],
   "source": [
    "def hello():  # 함수 정의\n",
    "    print(\"Hello World!\")\n",
    "\n",
    "\n",
    "hello()  # 함수 호출"
   ]
  },
  {
   "cell_type": "code",
   "execution_count": 36,
   "metadata": {
    "ExecuteTime": {
     "end_time": "2018-08-02T08:59:26.015431Z",
     "start_time": "2018-08-02T08:59:25.957852Z"
    }
   },
   "outputs": [
    {
     "name": "stdout",
     "output_type": "stream",
     "text": [
      "Hello cat!\n"
     ]
    }
   ],
   "source": [
    "def hello(object):\n",
    "    print(\"Hello \" + object + \"!\")  # + 연산자를 사용하여 문자열을 이어 붙임\n",
    "\n",
    "\n",
    "hello(\"cat\")  # 함수에 인수를 전달"
   ]
  },
  {
   "cell_type": "markdown",
   "metadata": {},
   "source": [
    "* 파이썬 인터프리터를 종료:\n",
    "  * 리눅스, 맥: Ctrl + D\n",
    "  * 윈도우: Ctrl + Z"
   ]
  },
  {
   "cell_type": "markdown",
   "metadata": {},
   "source": [
    "## 1.4 파이썬 스크립트 파일\n",
    "\n",
    "* 파이썬 프로그램을 파일로 저장하고 그 파일을 (함께) 실행"
   ]
  },
  {
   "cell_type": "markdown",
   "metadata": {},
   "source": [
    "### 1.4.1 파일로 저장하기\n",
    "\n",
    "* 텍스트 편집기로 'hungry.py'라는 파일을 작성\n",
    "* 파일의 내용은:\n",
    "\n",
    "> print(\"I'm hungry!\")\n",
    "\n",
    "* 터미널을 열고 'hungry.py'를 저장한 디렉터리로 이동\n",
    "* 파일 이름인 'hungry.py'를 인수로 python 명령 실행:\n",
    "  * hyngry.py가 ~/library/ch01 디렉터리에 있다고 가정\n"
   ]
  },
  {
   "cell_type": "code",
   "execution_count": 37,
   "metadata": {
    "ExecuteTime": {
     "end_time": "2018-08-02T09:10:40.929231Z",
     "start_time": "2018-08-02T09:10:39.167057Z"
    }
   },
   "outputs": [
    {
     "name": "stdout",
     "output_type": "stream",
     "text": [
      "total 0\n",
      "drwxr-xr-x 2 nbuser nbuser  0 Aug  2 09:07 .\n",
      "drwxr-xr-x 2 nbuser nbuser  0 Jan  1  1970 ..\n",
      "-rw-r--r-- 1 nbuser nbuser 21 Aug  6 09:11 hungry.py\n",
      "I'm hungry!\n"
     ]
    }
   ],
   "source": [
    "%%bash\n",
    "\n",
    "# 파일 생성\n",
    "echo \"print(\\\"I'm hungry!\\\")\" > ~/library/ch01/hungry.py\n",
    "\n",
    "# 디렉터리로 이동\n",
    "cd ~/library/ch01\n",
    "\n",
    "# 파일 확인\n",
    "ls -al\n",
    "\n",
    "# 파일 실행\n",
    "python hungry.py"
   ]
  },
  {
   "cell_type": "markdown",
   "metadata": {},
   "source": [
    "### 1.4.2 클래스\n",
    "\n",
    "* 개발자가 직접 클래스를 정의하여 독자적인 자료형을 생성 가능\n",
    "* 클래스에는 그 클래스만의 전용 함수(메서드)와 속성을 정의 할 수 있음.\n",
    "* `class` 키워드를 사용하여 클래스 정의"
   ]
  },
  {
   "cell_type": "code",
   "execution_count": 38,
   "metadata": {
    "ExecuteTime": {
     "end_time": "2018-08-02T09:13:53.321997Z",
     "start_time": "2018-08-02T09:13:53.233935Z"
    }
   },
   "outputs": [],
   "source": [
    "class 클래스_이름:\n",
    "    def __init__(self, arguments):  # 생성자\n",
    "        pass\n",
    "\n",
    "    def 메서드_이름_1(self, arguments):  # 메서드1\n",
    "        pass\n",
    "\n",
    "    def 메서드_이름_2(self, arguments):  # 메서드2\n",
    "        pass"
   ]
  },
  {
   "cell_type": "markdown",
   "metadata": {},
   "source": [
    "* 생성자(constructor): 클래스를 초기화하는 방법 정의\n",
    "  * `__init__`\n",
    "  * 클래스의 인스턴스가 만들어질 때 한번만 호출됨\n",
    "* 파이썬 클래스 내의 메서드들의 첫 번째 인수로 자신(자신의 인스턴스)을 나타내는 `self`를 명시적으로 사용"
   ]
  },
  {
   "cell_type": "code",
   "execution_count": 39,
   "metadata": {
    "ExecuteTime": {
     "end_time": "2018-08-02T09:18:21.507378Z",
     "start_time": "2018-08-02T09:18:21.393599Z"
    }
   },
   "outputs": [
    {
     "name": "stdout",
     "output_type": "stream",
     "text": [
      "Initialized!\n",
      "Hello David!\n",
      "Good-bye David!\n"
     ]
    }
   ],
   "source": [
    "class Man:\n",
    "    def __init__(self, name):\n",
    "        self.name = name\n",
    "        print(\"Initialized!\")\n",
    "\n",
    "    def hello(self):\n",
    "        print(\"Hello \" + self.name + \"!\")\n",
    "\n",
    "    def goodbye(self):\n",
    "        print(\"Good-bye \" + self.name + \"!\")\n",
    "\n",
    "\n",
    "m = Man(\"David\")\n",
    "m.hello()\n",
    "m.goodbye()"
   ]
  },
  {
   "cell_type": "markdown",
   "metadata": {},
   "source": [
    "* Man 클래스 정의\n",
    "* Man 클래스에서 m이라는 인스턴스(객체) 생성\n",
    "* Man의 생성자는 name이라는 인수를 받고, 그 인수로 인스턴스 변수인 self.name을 초기화\n",
    "  * **인스턴스 변수**: 인스턴스별로 저장되는 변수\n",
    "  * self.name 처럼 self 다음에 속성 이름을 써서 인스텁스 변수를 작성하거나 접근 가능"
   ]
  },
  {
   "cell_type": "markdown",
   "metadata": {},
   "source": [
    "## 1.5 넘파이\n",
    "\n",
    "* **넘파이**의 배열 클래스인 `numpy.array`에 편리한 메서드가 많이 준비되어 있음."
   ]
  },
  {
   "cell_type": "markdown",
   "metadata": {},
   "source": [
    "### 1.5.1 넘파이 가져오기\n",
    "\n",
    "* 넘파이는 외부 라이브러리\n",
    "* 넘파이 라이브러리를 쓸 수 있도록 import 해야함."
   ]
  },
  {
   "cell_type": "code",
   "execution_count": 40,
   "metadata": {
    "ExecuteTime": {
     "end_time": "2018-08-02T09:22:01.837127Z",
     "start_time": "2018-08-02T09:22:00.510790Z"
    }
   },
   "outputs": [],
   "source": [
    "import numpy as np"
   ]
  },
  {
   "cell_type": "markdown",
   "metadata": {},
   "source": [
    "* 파이썬에서는 라이브러리를 읽기 위해 `import` 문을 사용\n",
    "* `import numpy as np`\n",
    "  * \"numpy를 np라는 이름으로 가져와라\"\n",
    "  * 이후 `np`를 통해 넘파이를 참조할 수 있음."
   ]
  },
  {
   "cell_type": "markdown",
   "metadata": {},
   "source": [
    "### 1.5.2 넘파이 배열 생성하기\n",
    "\n",
    "* **넘파이 배열**을 만들 때는 `np.array()` 메서드 이용\n",
    "* `np.array()`는 파이썬의 리스트를 인수로 받아 넘파이 라이브러리가 제공하는 특수한 형태의 배열(`numpy.ndarray`)을 반환"
   ]
  },
  {
   "cell_type": "code",
   "execution_count": 41,
   "metadata": {
    "ExecuteTime": {
     "end_time": "2018-08-02T09:27:53.767435Z",
     "start_time": "2018-08-02T09:27:53.719145Z"
    }
   },
   "outputs": [
    {
     "name": "stdout",
     "output_type": "stream",
     "text": [
      "[1. 2. 3.]\n"
     ]
    }
   ],
   "source": [
    "x = np.array([1.0, 2.0, 3.0])\n",
    "print(x)"
   ]
  },
  {
   "cell_type": "code",
   "execution_count": 42,
   "metadata": {
    "ExecuteTime": {
     "end_time": "2018-08-02T09:28:04.538133Z",
     "start_time": "2018-08-02T09:28:04.506477Z"
    }
   },
   "outputs": [
    {
     "name": "stdout",
     "output_type": "stream",
     "text": [
      "<class 'numpy.ndarray'>\n"
     ]
    }
   ],
   "source": [
    "print(type(x))"
   ]
  },
  {
   "cell_type": "markdown",
   "metadata": {},
   "source": [
    "### 1.5.3 넘파이의 산술 연산"
   ]
  },
  {
   "cell_type": "code",
   "execution_count": 43,
   "metadata": {
    "ExecuteTime": {
     "end_time": "2018-08-02T09:38:09.345858Z",
     "start_time": "2018-08-02T09:38:09.308197Z"
    }
   },
   "outputs": [],
   "source": [
    "x = np.array([1.0, 2.0, 3.0])\n",
    "y = np.array([2.0, 4.0, 6.0])"
   ]
  },
  {
   "cell_type": "code",
   "execution_count": 44,
   "metadata": {
    "ExecuteTime": {
     "end_time": "2018-08-02T09:38:16.855735Z",
     "start_time": "2018-08-02T09:38:16.826256Z"
    }
   },
   "outputs": [
    {
     "data": {
      "text/plain": [
       "array([3., 6., 9.])"
      ]
     },
     "execution_count": 44,
     "metadata": {},
     "output_type": "execute_result"
    }
   ],
   "source": [
    "x + y  # 원소별 덧셈"
   ]
  },
  {
   "cell_type": "code",
   "execution_count": 45,
   "metadata": {
    "ExecuteTime": {
     "end_time": "2018-08-02T09:38:34.938855Z",
     "start_time": "2018-08-02T09:38:34.905148Z"
    }
   },
   "outputs": [
    {
     "data": {
      "text/plain": [
       "array([-1., -2., -3.])"
      ]
     },
     "execution_count": 45,
     "metadata": {},
     "output_type": "execute_result"
    }
   ],
   "source": [
    "x - y  # 원소별 뺄셈"
   ]
  },
  {
   "cell_type": "code",
   "execution_count": 46,
   "metadata": {
    "ExecuteTime": {
     "end_time": "2018-08-02T09:38:43.673254Z",
     "start_time": "2018-08-02T09:38:43.636535Z"
    }
   },
   "outputs": [
    {
     "data": {
      "text/plain": [
       "array([ 2.,  8., 18.])"
      ]
     },
     "execution_count": 46,
     "metadata": {},
     "output_type": "execute_result"
    }
   ],
   "source": [
    "x * y  # 원소별 곱셈"
   ]
  },
  {
   "cell_type": "code",
   "execution_count": 47,
   "metadata": {
    "ExecuteTime": {
     "end_time": "2018-08-02T09:38:49.912205Z",
     "start_time": "2018-08-02T09:38:49.848207Z"
    }
   },
   "outputs": [
    {
     "data": {
      "text/plain": [
       "array([0.5, 0.5, 0.5])"
      ]
     },
     "execution_count": 47,
     "metadata": {},
     "output_type": "execute_result"
    }
   ],
   "source": [
    "x / y  # 원소별 나눗셈"
   ]
  },
  {
   "cell_type": "markdown",
   "metadata": {},
   "source": [
    "* **중요**: x와 y의 원소 수가 같음.\n",
    "* x와 y의 원소 수가 같다면 산술 연산은 각 원소별(element-wise)로 행해짐.\n",
    "  * 원소 수가 다르면 오류 발생\n",
    "* **브로드캐스트**: 넘파이 배열은 원소별 계산뿐 아니라 넘파이 배열과 수치 하나(스칼라값)의 조합으로 된 산술 연산도 수행 가능\n",
    "  * 넘파이 배열의 원소별로 한 번씩 스칼라값과 계산"
   ]
  },
  {
   "cell_type": "code",
   "execution_count": 48,
   "metadata": {},
   "outputs": [
    {
     "data": {
      "text/plain": [
       "array([0.5, 1. , 1.5])"
      ]
     },
     "execution_count": 48,
     "metadata": {},
     "output_type": "execute_result"
    }
   ],
   "source": [
    "x = np.array([1.0, 2.0, 3.0])\n",
    "x / 2.0"
   ]
  },
  {
   "cell_type": "markdown",
   "metadata": {},
   "source": [
    "### 1.5.4 넘파이의 N차원 배열\n",
    "\n",
    "* 넘파이는 1차원 배열(1줄로 늘어선 배열) 뿐 아니라 다차원 배열도 작성 가능"
   ]
  },
  {
   "cell_type": "code",
   "execution_count": 49,
   "metadata": {
    "ExecuteTime": {
     "end_time": "2018-08-03T11:22:21.485725Z",
     "start_time": "2018-08-03T11:22:21.419139Z"
    }
   },
   "outputs": [
    {
     "name": "stdout",
     "output_type": "stream",
     "text": [
      "[[1 2]\n",
      " [3 4]]\n"
     ]
    }
   ],
   "source": [
    "A = np.array([[1, 2], [3, 4]])\n",
    "print(A)"
   ]
  },
  {
   "cell_type": "code",
   "execution_count": 50,
   "metadata": {
    "ExecuteTime": {
     "end_time": "2018-08-03T11:22:29.550766Z",
     "start_time": "2018-08-03T11:22:29.479956Z"
    }
   },
   "outputs": [
    {
     "data": {
      "text/plain": [
       "(2, 2)"
      ]
     },
     "execution_count": 50,
     "metadata": {},
     "output_type": "execute_result"
    }
   ],
   "source": [
    "A.shape"
   ]
  },
  {
   "cell_type": "code",
   "execution_count": 51,
   "metadata": {
    "ExecuteTime": {
     "end_time": "2018-08-03T11:22:37.515466Z",
     "start_time": "2018-08-03T11:22:37.437554Z"
    }
   },
   "outputs": [
    {
     "data": {
      "text/plain": [
       "dtype('int64')"
      ]
     },
     "execution_count": 51,
     "metadata": {},
     "output_type": "execute_result"
    }
   ],
   "source": [
    "A.dtype"
   ]
  },
  {
   "cell_type": "markdown",
   "metadata": {},
   "source": [
    "* 위의 A는 2x2 행렬\n",
    "* 행렬의 형상(각 차원의 원소 수)은 `shape`로 확인\n",
    "* 행렬에 담긴 원소의 자료형은 `dtype`으로 확인"
   ]
  },
  {
   "cell_type": "code",
   "execution_count": 52,
   "metadata": {
    "ExecuteTime": {
     "end_time": "2018-08-03T11:24:49.478211Z",
     "start_time": "2018-08-03T11:24:49.392549Z"
    }
   },
   "outputs": [
    {
     "name": "stdout",
     "output_type": "stream",
     "text": [
      "[[ 4  2]\n",
      " [ 3 10]]\n"
     ]
    }
   ],
   "source": [
    "B = np.array([[3, 0], [0, 6]])\n",
    "print(A + B)"
   ]
  },
  {
   "cell_type": "code",
   "execution_count": 53,
   "metadata": {
    "ExecuteTime": {
     "end_time": "2018-08-03T11:24:59.140581Z",
     "start_time": "2018-08-03T11:24:59.109044Z"
    }
   },
   "outputs": [
    {
     "name": "stdout",
     "output_type": "stream",
     "text": [
      "[[ 3  0]\n",
      " [ 0 24]]\n"
     ]
    }
   ],
   "source": [
    "print(A * B)"
   ]
  },
  {
   "cell_type": "markdown",
   "metadata": {
    "ExecuteTime": {
     "end_time": "2018-08-03T11:25:35.541795Z",
     "start_time": "2018-08-03T11:25:35.393962Z"
    }
   },
   "source": [
    "* 배열과 마찬가지로 산술 연산 계산\n",
    "* 브로드캐스트 기능 가능"
   ]
  },
  {
   "cell_type": "code",
   "execution_count": 54,
   "metadata": {
    "ExecuteTime": {
     "end_time": "2018-08-03T11:25:48.831930Z",
     "start_time": "2018-08-03T11:25:48.785051Z"
    }
   },
   "outputs": [
    {
     "name": "stdout",
     "output_type": "stream",
     "text": [
      "[[1 2]\n",
      " [3 4]]\n"
     ]
    }
   ],
   "source": [
    "print(A)"
   ]
  },
  {
   "cell_type": "code",
   "execution_count": 55,
   "metadata": {
    "ExecuteTime": {
     "end_time": "2018-08-03T11:25:55.223011Z",
     "start_time": "2018-08-03T11:25:55.176145Z"
    }
   },
   "outputs": [
    {
     "name": "stdout",
     "output_type": "stream",
     "text": [
      "[[10 20]\n",
      " [30 40]]\n"
     ]
    }
   ],
   "source": [
    "print(A * 10)"
   ]
  },
  {
   "cell_type": "markdown",
   "metadata": {},
   "source": [
    "<div class=\"alert alert-success\">\n",
    "<li>넘파이 배열(np.array)은 N차원 배열을 작성 가능</li>\n",
    "<li>수학에서는 1차원 배열은 <b>벡터</b>(vector), 2차원 배열은 <b>행렬</b>(matrix)라고 부름</li>\n",
    "<li>벡터와 행렬을 일반화한 것을 <b>텐서</b>(tensor)</li>\n",
    "<li>이 책에서는 기본적으로 2차원 배열을 '행렬', 3차원 이상의 배열을 '다차원 배열'이라 명명</li>\n",
    "</div>"
   ]
  },
  {
   "cell_type": "markdown",
   "metadata": {},
   "source": [
    "### 1.5.5 브로드캐스트\n",
    "\n"
   ]
  },
  {
   "cell_type": "markdown",
   "metadata": {},
   "source": [
    "* **브로드캐스트**(broadcast)\n",
    "  * 2x2 배열 A에 10이라는 스칼라값을 곱하는 경우,\n",
    "  * 10이라는 스칼라 값이 2x2 행렬로 확대된 후 연산"
   ]
  },
  {
   "cell_type": "markdown",
   "metadata": {
    "ExecuteTime": {
     "end_time": "2018-08-03T11:48:22.620227Z",
     "start_time": "2018-08-03T11:46:23.350318Z"
    }
   },
   "source": [
    "![bradcast](http://www.astroml.org/_images/fig_broadcast_visual_1.png)\n",
    "*image source: http://www.astroml.org/book_figures/appendix/fig_broadcast_visual.html*"
   ]
  },
  {
   "cell_type": "markdown",
   "metadata": {},
   "source": [
    "### 1.5.6 원소 접근\n",
    "\n",
    "* 원소의 인덱스는 0부터 시작"
   ]
  },
  {
   "cell_type": "code",
   "execution_count": 58,
   "metadata": {
    "ExecuteTime": {
     "end_time": "2018-08-06T09:12:47.687074Z",
     "start_time": "2018-08-06T09:12:47.673616Z"
    }
   },
   "outputs": [
    {
     "name": "stdout",
     "output_type": "stream",
     "text": [
      "[[51 55]\n",
      " [14 19]\n",
      " [ 0  4]]\n"
     ]
    }
   ],
   "source": [
    "X = np.array([[51, 55], [14, 19], [0, 4]])\n",
    "print(X)"
   ]
  },
  {
   "cell_type": "code",
   "execution_count": 59,
   "metadata": {
    "ExecuteTime": {
     "end_time": "2018-08-06T09:12:54.539047Z",
     "start_time": "2018-08-06T09:12:54.528025Z"
    }
   },
   "outputs": [
    {
     "name": "stdout",
     "output_type": "stream",
     "text": [
      "[51 55]\n"
     ]
    }
   ],
   "source": [
    "print(X[0])"
   ]
  },
  {
   "cell_type": "code",
   "execution_count": 60,
   "metadata": {
    "ExecuteTime": {
     "end_time": "2018-08-06T09:13:04.726764Z",
     "start_time": "2018-08-06T09:13:04.710171Z"
    }
   },
   "outputs": [
    {
     "name": "stdout",
     "output_type": "stream",
     "text": [
      "55\n"
     ]
    }
   ],
   "source": [
    "print(X[0][1])"
   ]
  },
  {
   "cell_type": "code",
   "execution_count": 61,
   "metadata": {
    "ExecuteTime": {
     "end_time": "2018-08-06T09:13:13.965778Z",
     "start_time": "2018-08-06T09:13:13.949729Z"
    },
    "scrolled": true
   },
   "outputs": [
    {
     "name": "stdout",
     "output_type": "stream",
     "text": [
      "[51 55]\n",
      "[14 19]\n",
      "[0 4]\n"
     ]
    }
   ],
   "source": [
    "for row in X:\n",
    "    print(row)"
   ]
  },
  {
   "cell_type": "code",
   "execution_count": 62,
   "metadata": {
    "ExecuteTime": {
     "end_time": "2018-08-06T09:13:57.627622Z",
     "start_time": "2018-08-06T09:13:57.612251Z"
    }
   },
   "outputs": [
    {
     "name": "stdout",
     "output_type": "stream",
     "text": [
      "[51 55 14 19  0  4]\n"
     ]
    }
   ],
   "source": [
    "X = X.flatten()    # X를 1차원 배열로 변환(평탄화)\n",
    "print(X)"
   ]
  },
  {
   "cell_type": "code",
   "execution_count": 65,
   "metadata": {
    "ExecuteTime": {
     "end_time": "2018-08-06T09:14:50.963346Z",
     "start_time": "2018-08-06T09:14:50.953836Z"
    }
   },
   "outputs": [
    {
     "data": {
      "text/plain": [
       "array([51, 14,  0])"
      ]
     },
     "execution_count": 65,
     "metadata": {},
     "output_type": "execute_result"
    }
   ],
   "source": [
    "X[np.array([0, 2, 4])]    # 인덱스가 0, 2, 4인 원소 얻기"
   ]
  },
  {
   "cell_type": "code",
   "execution_count": 68,
   "metadata": {
    "ExecuteTime": {
     "end_time": "2018-08-06T09:15:54.854505Z",
     "start_time": "2018-08-06T09:15:54.832830Z"
    }
   },
   "outputs": [
    {
     "data": {
      "text/plain": [
       "array([ True,  True, False,  True, False, False])"
      ]
     },
     "execution_count": 68,
     "metadata": {},
     "output_type": "execute_result"
    }
   ],
   "source": [
    "# 각 원소가 15이상인지 확인하기\n",
    "X > 15"
   ]
  },
  {
   "cell_type": "code",
   "execution_count": 69,
   "metadata": {
    "ExecuteTime": {
     "end_time": "2018-08-06T09:15:56.082454Z",
     "start_time": "2018-08-06T09:15:56.061874Z"
    }
   },
   "outputs": [
    {
     "data": {
      "text/plain": [
       "array([51, 55, 19])"
      ]
     },
     "execution_count": 69,
     "metadata": {},
     "output_type": "execute_result"
    }
   ],
   "source": [
    "# 15이상인 값만 얻기\n",
    "X[X > 15]"
   ]
  },
  {
   "cell_type": "markdown",
   "metadata": {},
   "source": [
    "<div class=\"alert alert-success\">\n",
    "<b>NOTE_</b> 파이썬 같은 동적 언어는 C나 C++ 같은 정적 언어(컴파일 언어)보다 처리 속도가 늦다고 합니다. \n",
    "파이썬에서 빠른 성능이 요구될 경우 해당 부분을 C/C++로 구현하여 사용하기도 합니다. \n",
    "넘파이도 주된 처리는 C와 C++로 구현했기 때문에, 성능을 해치지 않으면서 파이썬의 편리한 문법을 사용할 수 있습니다.\n",
    "</div>"
   ]
  },
  {
   "cell_type": "markdown",
   "metadata": {},
   "source": [
    "## 1.6 matplotlib\n",
    "\n",
    "* **matplotlib**: 그래프를 그려주는 라이브러리 => 데이터 시각화에 필요"
   ]
  },
  {
   "cell_type": "markdown",
   "metadata": {},
   "source": [
    "### 1.6.1 단순한 그래프 그리기\n",
    "\n",
    "* 그래프를 그리기 위해 **pyplot** 모듈 사용"
   ]
  },
  {
   "cell_type": "code",
   "execution_count": 73,
   "metadata": {
    "ExecuteTime": {
     "end_time": "2018-08-06T09:23:37.966777Z",
     "start_time": "2018-08-06T09:23:37.521853Z"
    }
   },
   "outputs": [
    {
     "data": {
      "image/png": "[encoded data removed]",
      "text/plain": [
       "<matplotlib.figure.Figure at 0x7ff5f62e9358>"
      ]
     },
     "metadata": {},
     "output_type": "display_data"
    }
   ],
   "source": [
    "# sin 함수 그리기\n",
    "import numpy as np\n",
    "import matplotlib.pyplot as plt\n",
    "\n",
    "# 데이터 준비\n",
    "x = np.arange(0, 6, 0.1)  # 0에서 6까지 0.1 간격으로 생성\n",
    "y = np.sin(x)\n",
    "\n",
    "# 그래프 그리기\n",
    "plt.plot(x, y)\n",
    "plt.show()"
   ]
  },
  {
   "cell_type": "code",
   "execution_count": 74,
   "metadata": {
    "ExecuteTime": {
     "end_time": "2018-08-06T09:23:59.230511Z",
     "start_time": "2018-08-06T09:23:59.216514Z"
    }
   },
   "outputs": [
    {
     "name": "stdout",
     "output_type": "stream",
     "text": [
      "[0.  0.1 0.2 0.3 0.4 0.5 0.6 0.7 0.8 0.9 1.  1.1 1.2 1.3 1.4 1.5 1.6 1.7\n",
      " 1.8 1.9 2.  2.1 2.2 2.3 2.4 2.5 2.6 2.7 2.8 2.9 3.  3.1 3.2 3.3 3.4 3.5\n",
      " 3.6 3.7 3.8 3.9 4.  4.1 4.2 4.3 4.4 4.5 4.6 4.7 4.8 4.9 5.  5.1 5.2 5.3\n",
      " 5.4 5.5 5.6 5.7 5.8 5.9]\n"
     ]
    }
   ],
   "source": [
    "print(x)"
   ]
  },
  {
   "cell_type": "code",
   "execution_count": 75,
   "metadata": {
    "ExecuteTime": {
     "end_time": "2018-08-06T09:24:02.826178Z",
     "start_time": "2018-08-06T09:24:02.819073Z"
    }
   },
   "outputs": [
    {
     "name": "stdout",
     "output_type": "stream",
     "text": [
      "[ 0.          0.09983342  0.19866933  0.29552021  0.38941834  0.47942554\n",
      "  0.56464247  0.64421769  0.71735609  0.78332691  0.84147098  0.89120736\n",
      "  0.93203909  0.96355819  0.98544973  0.99749499  0.9995736   0.99166481\n",
      "  0.97384763  0.94630009  0.90929743  0.86320937  0.8084964   0.74570521\n",
      "  0.67546318  0.59847214  0.51550137  0.42737988  0.33498815  0.23924933\n",
      "  0.14112001  0.04158066 -0.05837414 -0.15774569 -0.2555411  -0.35078323\n",
      " -0.44252044 -0.52983614 -0.61185789 -0.68776616 -0.7568025  -0.81827711\n",
      " -0.87157577 -0.91616594 -0.95160207 -0.97753012 -0.993691   -0.99992326\n",
      " -0.99616461 -0.98245261 -0.95892427 -0.92581468 -0.88345466 -0.83226744\n",
      " -0.77276449 -0.70554033 -0.63126664 -0.55068554 -0.46460218 -0.37387666]\n"
     ]
    }
   ],
   "source": [
    "print(y)"
   ]
  },
  {
   "cell_type": "markdown",
   "metadata": {},
   "source": [
    "### 1.6.2 pyplot의 기능\n",
    "\n",
    "* 제목, 각 축의 이름(레이블) 표시 등"
   ]
  },
  {
   "cell_type": "code",
   "execution_count": 85,
   "metadata": {
    "ExecuteTime": {
     "end_time": "2018-08-06T09:29:23.171590Z",
     "start_time": "2018-08-06T09:29:22.098792Z"
    }
   },
   "outputs": [
    {
     "data": {
      "image/png": "[encoded data removed]",
      "text/plain": [
       "<matplotlib.figure.Figure at 0x7ff5f5a7e630>"
      ]
     },
     "metadata": {},
     "output_type": "display_data"
    }
   ],
   "source": [
    "# cos 함수 그리기\n",
    "import numpy as np\n",
    "import matplotlib.pyplot as plt\n",
    "\n",
    "# 데이터 준비\n",
    "x = np.arange(0, 6, 0.1)  # 0에서 6까지 0.1 간격으로 생성\n",
    "y1 = np.sin(x)\n",
    "y2 = np.cos(x)\n",
    "\n",
    "# 그래프 그리기\n",
    "plt.plot(x, y1, label='sin')\n",
    "plt.plot(x, y2, linestyle='--', label='cos')  # cos 함수는 점선으로 그리기\n",
    "plt.xlabel('x')  # x축 이름\n",
    "plt.ylabel('y')  # y축 이름\n",
    "plt.title('sin & cos')  # 제목\n",
    "plt.legend()  # 범례, 표시 관련 설정\n",
    "plt.show()"
   ]
  },
  {
   "cell_type": "markdown",
   "metadata": {},
   "source": [
    "### 1.6.3 이미지 표시하기\n",
    "\n",
    "* 이미지를 표시하기 위해 `imshow()` 사용"
   ]
  },
  {
   "cell_type": "code",
   "execution_count": 86,
   "metadata": {
    "ExecuteTime": {
     "end_time": "2018-08-06T09:34:33.704807Z",
     "start_time": "2018-08-06T09:34:32.734139Z"
    }
   },
   "outputs": [
    {
     "data": {
      "image/png": "[encoded data removed]",
      "text/plain": [
       "<matplotlib.figure.Figure at 0x7ff5f5a42f60>"
      ]
     },
     "metadata": {},
     "output_type": "display_data"
    }
   ],
   "source": [
    "import matplotlib.pyplot as plt\n",
    "from matplotlib.image import imread\n",
    "\n",
    "img = imread('./ch01/lena.png')  # 이미지 읽어오기(적절한 경로를 설정하세요!)\n",
    "\n",
    "plt.imshow(img)\n",
    "plt.show()"
   ]
  },
  {
   "cell_type": "markdown",
   "metadata": {},
   "source": [
    "* 이미지 출처: https://ko.wikipedia.org/wiki/레나_(이미지)"
   ]
  },
  {
   "cell_type": "markdown",
   "metadata": {},
   "source": [
    "## 1.7 정리\n",
    "\n",
    "* 파이썬은 간단하고 익히기 쉬운 프로그래밍 언어다.\n",
    "* 파이썬은 오픈 소스여서 자유롭게 사용할 수 있다.\n",
    "* 이 책은 딥러닝 구현에 파이썬 3 버전을 이용한다.\n",
    "* 외부 라이브러리로는 넘파이와 matplotlib을 이용한다.\n",
    "* 파이썬을 실행하는 방식에는 '인터프리터'와 '스크립트 파일' 두 가지가 있다.\n",
    "* 파이썬에서는 함수와 클래스 같은 모듈로 구현을 정리할 수 있다.\n",
    "* 넘파이는 다차원 배여릉ㄹ 다루는 편리한 메서드를 많이 제공한다."
   ]
  },
  {
   "cell_type": "code",
   "execution_count": null,
   "metadata": {},
   "outputs": [],
   "source": []
  }
 ],
 "metadata": {
  "kernelspec": {
   "display_name": "Python 3.6",
   "language": "python",
   "name": "python36"
  },
  "language_info": {
   "codemirror_mode": {
    "name": "ipython",
    "version": 3
   },
   "file_extension": ".py",
   "mimetype": "text/x-python",
   "name": "python",
   "nbconvert_exporter": "python",
   "pygments_lexer": "ipython3",
   "version": "3.6.3"
  },
  "toc": {
   "base_numbering": "1",
   "nav_menu": {},
   "number_sections": false,
   "sideBar": true,
   "skip_h1_title": false,
   "title_cell": "Table of Contents",
   "title_sidebar": "Contents",
   "toc_cell": true,
   "toc_position": {},
   "toc_section_display": true,
   "toc_window_display": true
  },
  "varInspector": {
   "cols": {
    "lenName": 16,
    "lenType": 16,
    "lenVar": 40
   },
   "kernels_config": {
    "python": {
     "delete_cmd_postfix": "",
     "delete_cmd_prefix": "del ",
     "library": "var_list.py",
     "varRefreshCmd": "print(var_dic_list())"
    },
    "r": {
     "delete_cmd_postfix": ") ",
     "delete_cmd_prefix": "rm(",
     "library": "var_list.r",
     "varRefreshCmd": "cat(var_dic_list()) "
    }
   },
   "types_to_exclude": [
    "module",
    "function",
    "builtin_function_or_method",
    "instance",
    "_Feature"
   ],
   "window_display": false
  }
 },
 "nbformat": 4,
 "nbformat_minor": 2
}
