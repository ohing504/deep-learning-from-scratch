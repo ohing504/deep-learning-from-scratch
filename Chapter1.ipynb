{
 "cells": [
  {
   "cell_type": "markdown",
   "metadata": {
    "toc": true
   },
   "source": [
    "<h1>Table of Contents<span class=\"tocSkip\"></span></h1>\n",
    "<div class=\"toc\"><ul class=\"toc-item\"><li><span><a href=\"#밑바닥부터-시작하는-딥러닝-(Deep-Learning-from-Scratch)\" data-toc-modified-id=\"밑바닥부터-시작하는-딥러닝-(Deep-Learning-from-Scratch)-1\">밑바닥부터 시작하는 딥러닝 (Deep Learning from Scratch)</a></span></li><li><span><a href=\"#1-헬로-파이썬\" data-toc-modified-id=\"1-헬로-파이썬-2\">1 헬로 파이썬</a></span><ul class=\"toc-item\"><li><span><a href=\"#1.1-파이썬이란?\" data-toc-modified-id=\"1.1-파이썬이란?-2.1\">1.1 파이썬이란?</a></span></li><li><span><a href=\"#1.2-파이썬-설치하기\" data-toc-modified-id=\"1.2-파이썬-설치하기-2.2\">1.2 파이썬 설치하기</a></span><ul class=\"toc-item\"><li><span><a href=\"#1.2.1-파이썬-버전\" data-toc-modified-id=\"1.2.1-파이썬-버전-2.2.1\">1.2.1 파이썬 버전</a></span></li><li><span><a href=\"#1.2.2-사용하는-외부-라이브러리\" data-toc-modified-id=\"1.2.2-사용하는-외부-라이브러리-2.2.2\">1.2.2 사용하는 외부 라이브러리</a></span></li><li><span><a href=\"#1..2.3-아나콘다-배포판\" data-toc-modified-id=\"1..2.3-아나콘다-배포판-2.2.3\">1..2.3 아나콘다 배포판</a></span></li></ul></li><li><span><a href=\"#1.3-파이썬-인터프리터\" data-toc-modified-id=\"1.3-파이썬-인터프리터-2.3\">1.3 파이썬 인터프리터</a></span><ul class=\"toc-item\"><li><span><a href=\"#1.3.1-산술-연산\" data-toc-modified-id=\"1.3.1-산술-연산-2.3.1\">1.3.1 산술 연산</a></span></li><li><span><a href=\"#1.3.2-자료형\" data-toc-modified-id=\"1.3.2-자료형-2.3.2\">1.3.2 자료형</a></span></li><li><span><a href=\"#1.3.3-변수\" data-toc-modified-id=\"1.3.3-변수-2.3.3\">1.3.3 변수</a></span></li><li><span><a href=\"#1.3.4-리스트\" data-toc-modified-id=\"1.3.4-리스트-2.3.4\">1.3.4 리스트</a></span></li></ul></li></ul></li></ul></div>"
   ]
  },
  {
   "cell_type": "markdown",
   "metadata": {
    "collapsed": true
   },
   "source": [
    "# 밑바닥부터 시작하는 딥러닝 (Deep Learning from Scratch)\n",
    "\n",
    "<a href=\"https://github.com/ohing504/deep-learning-from-scratch\" style=\"color: Black;\">\n",
    "  <span class=\"fa fa-github fa-1x\"></span> GitHub\n",
    "</a>&nbsp;&nbsp;\n",
    "<a href=\"SUMMARY.ipynb\" style=\"color: Black;\">\n",
    "  <span class=\"fa fa-list-ul fa-1x\"></span> Contents\n",
    "</a>"
   ]
  },
  {
   "cell_type": "markdown",
   "metadata": {},
   "source": [
    "# 1 헬로 파이썬"
   ]
  },
  {
   "cell_type": "markdown",
   "metadata": {},
   "source": [
    "## 1.1 파이썬이란?\n",
    "\n",
    "* 간단하고 배우기 쉬운 프로그래밍 언어\n",
    "* 오픈 소스 (무료로 사용)\n",
    "* 컴파일 과정이 없어 편리\n",
    "* 과학, 기계학습 및 데이터 과학 분야를 위한 다양한 라이브러리 및 프레임워크 제공\n",
    "  * 수치 계산 및 통계 처리 라이브러리: 넘파이(NumPy), 사이파이(SciPy)\n",
    "  * 딥러닝 프레임워크: 카페(Caffe), 텐서플로(TensorFlow), 체이너(Chainer), 테아노(Theano)"
   ]
  },
  {
   "cell_type": "markdown",
   "metadata": {},
   "source": [
    "## 1.2 파이썬 설치하기\n",
    "\n"
   ]
  },
  {
   "cell_type": "markdown",
   "metadata": {},
   "source": []
  },
  {
   "cell_type": "markdown",
   "metadata": {},
   "source": [
    "### 1.2.1 파이썬 버전\n",
    "\n",
    "Python 3를 사용합시다."
   ]
  },
  {
   "cell_type": "markdown",
   "metadata": {},
   "source": [
    "### 1.2.2 사용하는 외부 라이브러리\n",
    "\n",
    "* 밑바닥부터 구현하기 위해, 외부 라이브러리는 최소한만 사용\n",
    "* 효율성을 위해 다음 두 가지 외부 라이브러리 사용:\n",
    "  * [넘파이(NumPy)](http://www.numpy.org/): 고도의 수학 알고리즘과 배열(행렬)을 조작하기 위한 편리한 메서드 다수\n",
    "  * [Matplotlib](https://matplotlib.org/): 그래프를 그려주는 라이브러리. 실험 결과 및 데이터 시각화"
   ]
  },
  {
   "cell_type": "markdown",
   "metadata": {},
   "source": [
    "### 1..2.3 아나콘다 배포판\n",
    "\n",
    "* 아나콘다(Anaconda) 배포판을 사용\n",
    "  * 배포판: 사용자가 설치를 한 번에 수행할 수 있도록 필요한 라이브러리 등을 하나로 정리해둔 것\n",
    "  * 아나콘다: 데이터 분석에 중점을 둔 배포판\n",
    "* 파이썬3 버전의 아나콘다를 자신의 OS에 맞게 다운로드하여 설치\n",
    "  * https://www.anaconda.com/download/#macos"
   ]
  },
  {
   "cell_type": "markdown",
   "metadata": {},
   "source": [
    "## 1.3 파이썬 인터프리터\n",
    "\n",
    "* 파이썬 버전 확인\n",
    "  * `python --version`"
   ]
  },
  {
   "cell_type": "code",
   "execution_count": 1,
   "metadata": {
    "ExecuteTime": {
     "end_time": "2018-08-02T02:19:29.810527Z",
     "start_time": "2018-08-02T02:19:29.722871Z"
    }
   },
   "outputs": [
    {
     "name": "stderr",
     "output_type": "stream",
     "text": [
      "Python 3.6.3 :: Anaconda custom (64-bit)\n"
     ]
    }
   ],
   "source": [
    "%%bash\n",
    "\n",
    "python --version"
   ]
  },
  {
   "cell_type": "code",
   "execution_count": 2,
   "metadata": {
    "ExecuteTime": {
     "end_time": "2018-08-02T02:19:50.856923Z",
     "start_time": "2018-08-02T02:19:50.674520Z"
    }
   },
   "outputs": [],
   "source": [
    "%%bash\n",
    "\n",
    "python"
   ]
  },
  {
   "cell_type": "markdown",
   "metadata": {},
   "source": [
    "* 인터프리터(대화 모드): 개발자와 파이썬이 대화하듯 프로그래밍"
   ]
  },
  {
   "cell_type": "code",
   "execution_count": 7,
   "metadata": {
    "ExecuteTime": {
     "end_time": "2018-08-02T02:25:39.872205Z",
     "start_time": "2018-08-02T02:25:39.845969Z"
    }
   },
   "outputs": [
    {
     "data": {
      "text/plain": [
       "3"
      ]
     },
     "execution_count": 7,
     "metadata": {},
     "output_type": "execute_result"
    }
   ],
   "source": [
    "1 + 2"
   ]
  },
  {
   "cell_type": "markdown",
   "metadata": {},
   "source": [
    "### 1.3.1 산술 연산\n",
    "\n",
    "* 덧셈과 곱셈등의 산술 연산"
   ]
  },
  {
   "cell_type": "code",
   "execution_count": 8,
   "metadata": {
    "ExecuteTime": {
     "end_time": "2018-08-02T02:26:19.944877Z",
     "start_time": "2018-08-02T02:26:19.922358Z"
    }
   },
   "outputs": [
    {
     "data": {
      "text/plain": [
       "-1"
      ]
     },
     "execution_count": 8,
     "metadata": {},
     "output_type": "execute_result"
    }
   ],
   "source": [
    "1 - 2"
   ]
  },
  {
   "cell_type": "code",
   "execution_count": 9,
   "metadata": {
    "ExecuteTime": {
     "end_time": "2018-08-02T02:26:23.386489Z",
     "start_time": "2018-08-02T02:26:23.379002Z"
    }
   },
   "outputs": [
    {
     "data": {
      "text/plain": [
       "20"
      ]
     },
     "execution_count": 9,
     "metadata": {},
     "output_type": "execute_result"
    }
   ],
   "source": [
    "4 * 5"
   ]
  },
  {
   "cell_type": "code",
   "execution_count": 10,
   "metadata": {
    "ExecuteTime": {
     "end_time": "2018-08-02T02:26:26.960864Z",
     "start_time": "2018-08-02T02:26:26.944378Z"
    }
   },
   "outputs": [
    {
     "data": {
      "text/plain": [
       "1.4"
      ]
     },
     "execution_count": 10,
     "metadata": {},
     "output_type": "execute_result"
    }
   ],
   "source": [
    "7 / 5"
   ]
  },
  {
   "cell_type": "code",
   "execution_count": 11,
   "metadata": {
    "ExecuteTime": {
     "end_time": "2018-08-02T02:26:30.763499Z",
     "start_time": "2018-08-02T02:26:30.728933Z"
    }
   },
   "outputs": [
    {
     "data": {
      "text/plain": [
       "9"
      ]
     },
     "execution_count": 11,
     "metadata": {},
     "output_type": "execute_result"
    }
   ],
   "source": [
    "3 ** 2"
   ]
  },
  {
   "cell_type": "markdown",
   "metadata": {},
   "source": [
    "### 1.3.2 자료형\n",
    "\n",
    "* 자료형(data type): 데이터의 성질\n",
    "  * 정수(int), 실수(float), 문자열(str) 등\n",
    "  * `type()` 함수로 특정 데이터의 자료형 확인 가능"
   ]
  },
  {
   "cell_type": "code",
   "execution_count": 12,
   "metadata": {
    "ExecuteTime": {
     "end_time": "2018-08-02T02:27:37.934978Z",
     "start_time": "2018-08-02T02:27:37.904064Z"
    }
   },
   "outputs": [
    {
     "data": {
      "text/plain": [
       "int"
      ]
     },
     "execution_count": 12,
     "metadata": {},
     "output_type": "execute_result"
    }
   ],
   "source": [
    "type(10)"
   ]
  },
  {
   "cell_type": "code",
   "execution_count": 13,
   "metadata": {
    "ExecuteTime": {
     "end_time": "2018-08-02T02:27:41.922416Z",
     "start_time": "2018-08-02T02:27:41.904409Z"
    }
   },
   "outputs": [
    {
     "data": {
      "text/plain": [
       "float"
      ]
     },
     "execution_count": 13,
     "metadata": {},
     "output_type": "execute_result"
    }
   ],
   "source": [
    "type(2.718)"
   ]
  },
  {
   "cell_type": "code",
   "execution_count": 14,
   "metadata": {
    "ExecuteTime": {
     "end_time": "2018-08-02T02:27:48.064933Z",
     "start_time": "2018-08-02T02:27:48.040949Z"
    }
   },
   "outputs": [
    {
     "data": {
      "text/plain": [
       "str"
      ]
     },
     "execution_count": 14,
     "metadata": {},
     "output_type": "execute_result"
    }
   ],
   "source": [
    "type('hello')"
   ]
  },
  {
   "cell_type": "markdown",
   "metadata": {},
   "source": [
    "* 자료형과 클래스(class)라는 말을 같은 의미로 사용하는 경우가 있음.\n",
    "  * <class 'int'>는 '10은 int라는 클래스(자료형)다'로 해석"
   ]
  },
  {
   "cell_type": "markdown",
   "metadata": {},
   "source": [
    "### 1.3.3 변수\n",
    "\n",
    "* 변수(variable): x와 y 등의 알파벳을 사용하여 정의\n",
    "* 변수를 사용하여 계산하거나 변수에 다른 값을 대입할 수 있음."
   ]
  },
  {
   "cell_type": "code",
   "execution_count": 16,
   "metadata": {
    "ExecuteTime": {
     "end_time": "2018-08-02T02:32:03.247421Z",
     "start_time": "2018-08-02T02:32:03.239490Z"
    }
   },
   "outputs": [
    {
     "name": "stdout",
     "output_type": "stream",
     "text": [
      "10\n"
     ]
    }
   ],
   "source": [
    "x = 10    # 초기화\n",
    "print(x)  # x의 값 출력"
   ]
  },
  {
   "cell_type": "code",
   "execution_count": 18,
   "metadata": {
    "ExecuteTime": {
     "end_time": "2018-08-02T02:32:30.117888Z",
     "start_time": "2018-08-02T02:32:30.095042Z"
    }
   },
   "outputs": [
    {
     "name": "stdout",
     "output_type": "stream",
     "text": [
      "100\n"
     ]
    }
   ],
   "source": [
    "x = 100  # 변수에 값 대입\n",
    "print(x)"
   ]
  },
  {
   "cell_type": "code",
   "execution_count": 19,
   "metadata": {
    "ExecuteTime": {
     "end_time": "2018-08-02T02:32:46.985497Z",
     "start_time": "2018-08-02T02:32:46.962222Z"
    }
   },
   "outputs": [
    {
     "name": "stdout",
     "output_type": "stream",
     "text": [
      "314.0\n"
     ]
    }
   ],
   "source": [
    "y = 3.14\n",
    "print(x * y)"
   ]
  },
  {
   "cell_type": "code",
   "execution_count": 20,
   "metadata": {
    "ExecuteTime": {
     "end_time": "2018-08-02T02:32:54.658930Z",
     "start_time": "2018-08-02T02:32:54.644083Z"
    }
   },
   "outputs": [
    {
     "data": {
      "text/plain": [
       "float"
      ]
     },
     "execution_count": 20,
     "metadata": {},
     "output_type": "execute_result"
    }
   ],
   "source": [
    "type(x * y)"
   ]
  },
  {
   "cell_type": "markdown",
   "metadata": {},
   "source": [
    "* 파이썬은 **동적 언어**: 자료형을 상황에 맞게 자동으로 결정\n",
    "  * x를 10이라는 정수로 초기화할 때, x의 타입은 int\n",
    "  * 정수와 실수를 곱한 결과는 실수\n",
    "* `#`은 주석의 시작을 알리는 문자\n",
    "  * `#` 이후의 문자는 모두 무시"
   ]
  },
  {
   "cell_type": "markdown",
   "metadata": {},
   "source": [
    "### 1.3.4 리스트\n",
    "\n",
    "* 리스트(list): 여러 데이터를 관리하기 용이"
   ]
  },
  {
   "cell_type": "code",
   "execution_count": 21,
   "metadata": {
    "ExecuteTime": {
     "end_time": "2018-08-02T02:36:04.243711Z",
     "start_time": "2018-08-02T02:36:04.226108Z"
    }
   },
   "outputs": [
    {
     "name": "stdout",
     "output_type": "stream",
     "text": [
      "[1, 2, 3, 4, 5]\n"
     ]
    }
   ],
   "source": [
    "a = [1, 2, 3, 4, 5]  # 리스트 생성\n",
    "print(a)"
   ]
  },
  {
   "cell_type": "code",
   "execution_count": 22,
   "metadata": {
    "ExecuteTime": {
     "end_time": "2018-08-02T02:36:15.470106Z",
     "start_time": "2018-08-02T02:36:15.463824Z"
    }
   },
   "outputs": [
    {
     "data": {
      "text/plain": [
       "5"
      ]
     },
     "execution_count": 22,
     "metadata": {},
     "output_type": "execute_result"
    }
   ],
   "source": [
    "len(a)  # 리스트의 길이 출력"
   ]
  },
  {
   "cell_type": "code",
   "execution_count": 23,
   "metadata": {
    "ExecuteTime": {
     "end_time": "2018-08-02T02:36:28.387310Z",
     "start_time": "2018-08-02T02:36:28.364191Z"
    }
   },
   "outputs": [
    {
     "data": {
      "text/plain": [
       "1"
      ]
     },
     "execution_count": 23,
     "metadata": {},
     "output_type": "execute_result"
    }
   ],
   "source": [
    "a[0]  # 첫 원소에 접근"
   ]
  },
  {
   "cell_type": "code",
   "execution_count": 24,
   "metadata": {
    "ExecuteTime": {
     "end_time": "2018-08-02T02:36:39.978856Z",
     "start_time": "2018-08-02T02:36:39.950223Z"
    }
   },
   "outputs": [
    {
     "data": {
      "text/plain": [
       "5"
      ]
     },
     "execution_count": 24,
     "metadata": {},
     "output_type": "execute_result"
    }
   ],
   "source": [
    "a[4]  # 다섯 번째 원소에 접근"
   ]
  },
  {
   "cell_type": "code",
   "execution_count": 26,
   "metadata": {
    "ExecuteTime": {
     "end_time": "2018-08-02T02:37:00.234056Z",
     "start_time": "2018-08-02T02:37:00.219921Z"
    }
   },
   "outputs": [
    {
     "name": "stdout",
     "output_type": "stream",
     "text": [
      "[1, 2, 3, 4, 99]\n"
     ]
    }
   ],
   "source": [
    "a[4] = 99  # 값 대입\n",
    "print(a)"
   ]
  },
  {
   "cell_type": "markdown",
   "metadata": {},
   "source": [
    "* 리스트의 원소에 접근할 때는 `a[0]` 처럼 사용\n",
    "* `[ ]` 안의 수를 인덱스(색인)라 하며, 인덱스는 0부터 시작\n",
    "  * 0이 첫 번째 원소를 가리킴.\n",
    "* 슬라이싱(slicing): 범위를 지정해 원하는 부분 리스트를 얻음."
   ]
  },
  {
   "cell_type": "code",
   "execution_count": 27,
   "metadata": {
    "ExecuteTime": {
     "end_time": "2018-08-02T02:41:12.478114Z",
     "start_time": "2018-08-02T02:41:12.471856Z"
    }
   },
   "outputs": [
    {
     "name": "stdout",
     "output_type": "stream",
     "text": [
      "[1, 2, 3, 4, 99]\n"
     ]
    }
   ],
   "source": [
    "print(a)"
   ]
  },
  {
   "cell_type": "code",
   "execution_count": 30,
   "metadata": {
    "ExecuteTime": {
     "end_time": "2018-08-02T02:41:40.864558Z",
     "start_time": "2018-08-02T02:41:40.841482Z"
    }
   },
   "outputs": [
    {
     "data": {
      "text/plain": [
       "[1, 2]"
      ]
     },
     "execution_count": 30,
     "metadata": {},
     "output_type": "execute_result"
    }
   ],
   "source": [
    "a[0:2]  # 인덱스 0부터 2까지 얻기(2번째는 포함하지 않는다!)"
   ]
  },
  {
   "cell_type": "code",
   "execution_count": 31,
   "metadata": {
    "ExecuteTime": {
     "end_time": "2018-08-02T02:41:49.436376Z",
     "start_time": "2018-08-02T02:41:49.413401Z"
    }
   },
   "outputs": [
    {
     "data": {
      "text/plain": [
       "[2, 3, 4, 99]"
      ]
     },
     "execution_count": 31,
     "metadata": {},
     "output_type": "execute_result"
    }
   ],
   "source": [
    "a[1:]  # 인덱스 1부터 끝까지 얻기"
   ]
  },
  {
   "cell_type": "code",
   "execution_count": 32,
   "metadata": {
    "ExecuteTime": {
     "end_time": "2018-08-02T02:43:43.590249Z",
     "start_time": "2018-08-02T02:43:43.569206Z"
    }
   },
   "outputs": [
    {
     "data": {
      "text/plain": [
       "[1, 2, 3]"
      ]
     },
     "execution_count": 32,
     "metadata": {},
     "output_type": "execute_result"
    }
   ],
   "source": [
    "a[:3]  # 처음부터 인덱스 3까지 얻기(3번째는 포함하지 않는다!)"
   ]
  },
  {
   "cell_type": "code",
   "execution_count": 33,
   "metadata": {
    "ExecuteTime": {
     "end_time": "2018-08-02T02:43:56.334162Z",
     "start_time": "2018-08-02T02:43:56.306980Z"
    }
   },
   "outputs": [
    {
     "data": {
      "text/plain": [
       "[1, 2, 3, 4]"
      ]
     },
     "execution_count": 33,
     "metadata": {},
     "output_type": "execute_result"
    }
   ],
   "source": [
    "a[:-1]  # 처음부터 마지막 원소의 1개 앞까지 얻기"
   ]
  },
  {
   "cell_type": "code",
   "execution_count": 34,
   "metadata": {
    "ExecuteTime": {
     "end_time": "2018-08-02T02:44:07.116803Z",
     "start_time": "2018-08-02T02:44:07.094972Z"
    }
   },
   "outputs": [
    {
     "data": {
      "text/plain": [
       "[1, 2, 3]"
      ]
     },
     "execution_count": 34,
     "metadata": {},
     "output_type": "execute_result"
    }
   ],
   "source": [
    "a[:-2]  # 처음부터 마지막 원소의 2개 앞까지 얻기"
   ]
  },
  {
   "cell_type": "markdown",
   "metadata": {},
   "source": [
    "* 리스트를 슬라이싱하려면 `a[0:2]` 처럼 사용\n",
    "* `a[0:2]`는 인덱스 0부터 1 (2보다 하나 앞)까지의 원소를 꺼냄.\n",
    "* 인덱스 번호 -1은 마지막 원소, -2는 끝에서 한 개 앞의 원소에 해당"
   ]
  },
  {
   "cell_type": "code",
   "execution_count": null,
   "metadata": {},
   "outputs": [],
   "source": []
  }
 ],
 "metadata": {
  "kernelspec": {
   "display_name": "Python 3.6",
   "language": "python",
   "name": "python36"
  },
  "language_info": {
   "codemirror_mode": {
    "name": "ipython",
    "version": 3
   },
   "file_extension": ".py",
   "mimetype": "text/x-python",
   "name": "python",
   "nbconvert_exporter": "python",
   "pygments_lexer": "ipython3",
   "version": "3.6.3"
  },
  "toc": {
   "base_numbering": "1",
   "nav_menu": {},
   "number_sections": false,
   "sideBar": true,
   "skip_h1_title": false,
   "title_cell": "Table of Contents",
   "title_sidebar": "Contents",
   "toc_cell": true,
   "toc_position": {},
   "toc_section_display": true,
   "toc_window_display": true
  },
  "varInspector": {
   "cols": {
    "lenName": 16,
    "lenType": 16,
    "lenVar": 40
   },
   "kernels_config": {
    "python": {
     "delete_cmd_postfix": "",
     "delete_cmd_prefix": "del ",
     "library": "var_list.py",
     "varRefreshCmd": "print(var_dic_list())"
    },
    "r": {
     "delete_cmd_postfix": ") ",
     "delete_cmd_prefix": "rm(",
     "library": "var_list.r",
     "varRefreshCmd": "cat(var_dic_list()) "
    }
   },
   "types_to_exclude": [
    "module",
    "function",
    "builtin_function_or_method",
    "instance",
    "_Feature"
   ],
   "window_display": false
  }
 },
 "nbformat": 4,
 "nbformat_minor": 2
}
